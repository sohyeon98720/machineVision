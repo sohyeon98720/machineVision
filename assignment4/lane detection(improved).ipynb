{
 "cells": [
  {
   "cell_type": "code",
   "execution_count": 1,
   "metadata": {},
   "outputs": [],
   "source": [
    "# import some useful packages\n",
    "import matplotlib.pyplot as plt\n",
    "import numpy as np\n",
    "import cv2\n",
    "%matplotlib inline"
   ]
  },
  {
   "cell_type": "code",
   "execution_count": 2,
   "metadata": {},
   "outputs": [],
   "source": [
    "import numpy as np\n",
    "import cv2\n",
    "\n",
    "def region_of_interest(img, vertices):\n",
    "    mask = np.zeros_like(img)\n",
    "    cv2.fillPoly(mask, vertices, 255)\n",
    "    \n",
    "    return cv2.bitwise_and(img, mask)"
   ]
  },
  {
   "cell_type": "code",
   "execution_count": 3,
   "metadata": {},
   "outputs": [],
   "source": [
    "def canny(img,low,high):\n",
    "    return cv2.Canny(img,low,high)\n",
    "\n",
    "def blur(img,kernel_size):\n",
    "    return cv2.GaussianBlur(img,(kernel_size,kernel_size),0)\n",
    "\n",
    "\n",
    "def improved_pipeline(img):\n",
    "    height, width = img.shape[:2]\n",
    "    \n",
    "    vertices = np.array([[(50, height),\n",
    "                          (width/2-45, height/2+60), \n",
    "                          (width/2+45, height/2+60), \n",
    "                          (width-50,height)]], dtype='int')\n",
    "\n",
    "    img_gray=cv2.cvtColor(img,cv2.COLOR_BGR2GRAY)\n",
    "    img_blur=blur(img_gray,3)\n",
    "    img_canny=canny(img_blur,50,150)\n",
    "    img_bitwise=region_of_interest(img_canny,vertices)\n",
    "    lines=cv2.HoughLinesP(img_bitwise,1,np.pi/360,70,1,10)\n",
    "    lines_r=np.zeros(((len(lines),1,4)),np.int32)###조건에 충족하는 선분만 담는 배열\n",
    "    re_lines=np.zeros((2,1,4),np.int32)###결과배열 담을 곳.\n",
    "    a=True\n",
    "    b=True\n",
    "    for i in range(len(lines)):\n",
    "        if(not(lines[i,0,1]-lines[i,0,3]==0 or lines[i,0,0]-lines[i,0,2]==0)):\n",
    "            #print(\"------\",lines[i,0,1]-lines[i,0,3]/lines[i,0,0]-lines[i,0,2])\n",
    "            if(abs((lines[i,0,1]-lines[i,0,3])/(lines[i,0,0]-lines[i,0,2]))>0.5):###각 선분의 기울기를 검사하여 조건을 충족하는 것만 표시\n",
    "                lines_r[i,0,0]=lines[i,0,0]\n",
    "                lines_r[i,0,1]=lines[i,0,1]\n",
    "                lines_r[i,0,2]=lines[i,0,2]\n",
    "                lines_r[i,0,3]=lines[i,0,3]\n",
    "                #print(\"----------\",(lines[i,0,1]-lines[i,0,3])/(lines[i,0,0]-lines[i,0,2]))\n",
    "                if((lines[i,0,1]-lines[i,0,3])/(lines[i,0,0]-lines[i,0,2])>0):###기울기가 양수이면\n",
    "                    if(a==True):\n",
    "                        re_lines[0,0,0]=lines_r[i,0,0]\n",
    "                        re_lines[0,0,1]=lines_r[i,0,1]#첫 시작점의 x1,y1만 저장\n",
    "                        a=False\n",
    "                    else:\n",
    "                        re_lines[0,0,2]=lines_r[i,0,2]\n",
    "                        re_lines[0,0,3]=lines_r[i,0,3]#계속 갱신될 것임 -> 가장 마지막 x2,y2만 저장\n",
    "                else:###기울기가 음수이면\n",
    "                    if(b==True):\n",
    "                        re_lines[1,0,0]=lines_r[i,0,0]\n",
    "                        re_lines[1,0,1]=lines_r[i,0,1]#첫 시작점의 x1,y1만 저장\n",
    "                        b=False\n",
    "                    else:\n",
    "                        re_lines[1,0,2]=lines_r[i,0,2]\n",
    "                        re_lines[1,0,3]=lines_r[i,0,3]#계속 갱신될 것임 -> 가장 마지막 x2,y2만 저장\n",
    "    #print(lines_r)\n",
    "    print(\"result : \",re_lines)\n",
    "        \n",
    "    for i in range(len(re_lines)):\n",
    "        for x1,y1,x2,y2 in re_lines[i]:\n",
    "            result=cv2.line(img,(x1,y1),(x2,y2),(0,0,255),2)\n",
    "    \n",
    "    return result"
   ]
  },
  {
   "cell_type": "code",
   "execution_count": 5,
   "metadata": {},
   "outputs": [
    {
     "name": "stdout",
     "output_type": "stream",
     "text": [
      "result :  [[[557 357 832 538]]\n",
      "\n",
      " [[310 423 344 407]]]\n",
      "result :  [[[771 484 752 483]]\n",
      "\n",
      " [[211 490 417 347]]]\n",
      "result :  [[[680 418 759 462]]\n",
      "\n",
      " [[410 379 312 461]]]\n"
     ]
    }
   ],
   "source": [
    "listOfFiles = ['solidWhiteRight.jpg', 'solidYellowLeft.jpg', 'challenge.jpg']\n",
    "\n",
    "for i, file in enumerate(listOfFiles):\n",
    "    img = cv2.imread(file)\n",
    "    \n",
    "    result = improved_pipeline(img)\n",
    "    cv2.imshow('lane detection', result)\n",
    "    cv2.waitKey(0) \n",
    "    \n",
    "cv2.destroyAllWindows()"
   ]
  },
  {
   "cell_type": "code",
   "execution_count": null,
   "metadata": {},
   "outputs": [],
   "source": []
  }
 ],
 "metadata": {
  "kernelspec": {
   "display_name": "Python 3",
   "language": "python",
   "name": "python3"
  },
  "language_info": {
   "codemirror_mode": {
    "name": "ipython",
    "version": 3
   },
   "file_extension": ".py",
   "mimetype": "text/x-python",
   "name": "python",
   "nbconvert_exporter": "python",
   "pygments_lexer": "ipython3",
   "version": "3.7.3"
  }
 },
 "nbformat": 4,
 "nbformat_minor": 2
}
